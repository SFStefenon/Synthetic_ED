{
  "nbformat": 4,
  "nbformat_minor": 0,
  "metadata": {
    "colab": {
      "provenance": [],
      "authorship_tag": "ABX9TyOYYOXE8MgDU9rYcUzf3WTB",
      "include_colab_link": true
    },
    "kernelspec": {
      "name": "python3",
      "display_name": "Python 3"
    },
    "language_info": {
      "name": "python"
    }
  },
  "cells": [
    {
      "cell_type": "markdown",
      "metadata": {
        "id": "view-in-github",
        "colab_type": "text"
      },
      "source": [
        "<a href=\"https://colab.research.google.com/github/SFStefenon/synthetic_ED/blob/main/save_640_640_BBs_for_YOLO.ipynb\" target=\"_parent\"><img src=\"https://colab.research.google.com/assets/colab-badge.svg\" alt=\"Open In Colab\"/></a>"
      ]
    },
    {
      "cell_type": "code",
      "execution_count": null,
      "metadata": {
        "id": "Gtak5cRMv1Cm"
      },
      "outputs": [],
      "source": [
        "'''\n",
        "Algorithm wrote by Stefano Frizzo Stefenon\n",
        "Fondazione Bruno Kessler\n",
        "Trento, Italy, June 06, 2024.\n",
        "'''\n",
        "import glob\n",
        "\n",
        "main = str('./Synthetic/Final')\n",
        "# Clean the processing folder\n",
        "import os\n",
        "for f in glob.glob(main+\"/Cropouts/S*.txt\"):\n",
        "    os.remove(f)\n",
        "\n",
        "# Load the files\n",
        "def get_file_names(path):\n",
        "    ext = ['txt']    # Add formats here\n",
        "    files = []\n",
        "    [files.extend(glob.glob(path + 'S*.' + e)) for e in ext]\n",
        "    return files\n",
        "files = get_file_names(main+'/Original/')\n",
        "\n",
        "for file in files:\n",
        "    with open(file=file) as f:\n",
        "        lines = f.readlines()\n",
        "    for line in lines:\n",
        "        for slide_ln in range(0,9):\n",
        "            new_lines = []\n",
        "\n",
        "            if int(line[-27])==0:\n",
        "                if int(slide_ln)==int(line[-36]):\n",
        "                    final_line = line.replace((' ' + str(slide_ln)),' 0', 1)\n",
        "                    new_lines.append(final_line)\n",
        "                    new_file = 'Synthetic/Final/Cropouts/' + file[-20:-4] + '_R_0_' + str(int(line[-36])) + '.txt'\n",
        "                    g = open(new_file, \"a\")\n",
        "                    g.writelines(new_lines)\n",
        "                    print(new_file)\n",
        "\n",
        "            if int(line[-27])==1:\n",
        "                if int(slide_ln)==int(line[-36]):\n",
        "                    final_line = line.replace((' ' + str(1)),' 0', 2)\n",
        "                    new_lines.append(final_line)\n",
        "                    new_file = 'Synthetic/Final/Cropouts/' + file[-20:-4] + '_R_1_' + str(int(line[-36])) + '.txt'\n",
        "                    g = open(new_file, \"a\")\n",
        "                    g.writelines(new_lines)\n",
        "                    print(new_file)\n",
        "\n",
        "g.close()"
      ]
    }
  ]
}
