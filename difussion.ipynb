{
  "nbformat": 4,
  "nbformat_minor": 0,
  "metadata": {
    "colab": {
      "provenance": [],
      "authorship_tag": "ABX9TyPC3pk0oPiPM/6B5pMXIOaP",
      "include_colab_link": true
    },
    "kernelspec": {
      "name": "python3",
      "display_name": "Python 3"
    },
    "language_info": {
      "name": "python"
    }
  },
  "cells": [
    {
      "cell_type": "markdown",
      "metadata": {
        "id": "view-in-github",
        "colab_type": "text"
      },
      "source": [
        "<a href=\"https://colab.research.google.com/github/SFStefenon/synthetic_ED/blob/main/difussion.ipynb\" target=\"_parent\"><img src=\"https://colab.research.google.com/assets/colab-badge.svg\" alt=\"Open In Colab\"/></a>"
      ]
    },
    {
      "cell_type": "code",
      "execution_count": null,
      "metadata": {
        "id": "lkjJYO7tw8Ki"
      },
      "outputs": [],
      "source": [
        "import torch\n",
        "from denoising_diffusion_pytorch import Unet, GaussianDiffusion, Trainer\n",
        "import time\n",
        "import os\n",
        "import torchvision\n",
        "import torchvision.transforms as T\n",
        "from PIL import Image\n",
        "import matplotlib.pyplot as plt\n",
        "from torchvision.utils import make_grid\n",
        "device = 'cuda' if torch.cuda.is_available() else 'cpu'\n",
        "print('device:', device)\n",
        "\n",
        "model = Unet(\n",
        "    dim = 64,\n",
        "    dim_mults = (1, 2, 4, 8),\n",
        "    flash_attn = True\n",
        ")\n",
        "\n",
        "diffusion = GaussianDiffusion(\n",
        "    model,\n",
        "    image_size = 32,\n",
        "    timesteps = 1000,           # number of steps\n",
        "    sampling_timesteps = 250    # number of sampling timesteps\n",
        ")\n",
        "\n",
        "batchsize = 16\n",
        "\n",
        "for classes in range(0,133):\n",
        "    print(f'Running: {classes}')\n",
        "\n",
        "    data = '' + str(classes)\n",
        "    storage = ''\n",
        "\n",
        "    try:\n",
        "        start = time.time()\n",
        "        trainer = Trainer(\n",
        "            diffusion,\n",
        "            data,\n",
        "            train_batch_size = 16,\n",
        "            train_lr = 8e-5,\n",
        "            train_num_steps = 1000,           # total training steps\n",
        "            results_folder = '',\n",
        "            gradient_accumulate_every = 2,    # gradient accumulation steps\n",
        "            ema_decay = 0.995,                # exponential moving average decay\n",
        "            amp = True,                       # turn on mixed precision\n",
        "            calculate_fid = True              # whether to calculate fid during training\n",
        "        )\n",
        "\n",
        "        trainer.train()\n",
        "\n",
        "        images = diffusion.sample(batch_size = batchsize).cpu()\n",
        "        # print(images.shape)\n",
        "        name = str(storage) + 'Results_DIF_class_' + str(classes) + '_sampled_seq.pt'\n",
        "        torch.save(images, name)\n",
        "\n",
        "        for i in images:\n",
        "            fig, ax = plt.subplots(figsize=(12,8))\n",
        "            ax.set_xticks([])\n",
        "            ax.set_yticks([])\n",
        "            ax.imshow(make_grid(images, nrow=4).permute(1,2,0))\n",
        "            break\n",
        "        figure_name = str(storage) + 'Results_DIF_class_' + str(classes) + '_image_generated.jpg'\n",
        "        plt.savefig(figure_name)\n",
        "        end = time.time()\n",
        "        time_s = end - start\n",
        "        print(f'{time_s:.2f}s')\n",
        "        os.remove('model-1.pt')\n",
        "\n",
        "    except Exception as e:\n",
        "        pass\n",
        "        print(\"The error is: \", e)\n",
        "\n",
        "print('Finished')"
      ]
    }
  ]
}