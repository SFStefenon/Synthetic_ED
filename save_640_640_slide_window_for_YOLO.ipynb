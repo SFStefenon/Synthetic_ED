{
  "nbformat": 4,
  "nbformat_minor": 0,
  "metadata": {
    "colab": {
      "provenance": [],
      "authorship_tag": "ABX9TyOFeqfcsazb1wFjVeo6Sic5",
      "include_colab_link": true
    },
    "kernelspec": {
      "name": "python3",
      "display_name": "Python 3"
    },
    "language_info": {
      "name": "python"
    }
  },
  "cells": [
    {
      "cell_type": "markdown",
      "metadata": {
        "id": "view-in-github",
        "colab_type": "text"
      },
      "source": [
        "<a href=\"https://colab.research.google.com/github/SFStefenon/synthetic_ED/blob/main/save_640_640_slide_window_for_YOLO.ipynb\" target=\"_parent\"><img src=\"https://colab.research.google.com/assets/colab-badge.svg\" alt=\"Open In Colab\"/></a>"
      ]
    },
    {
      "cell_type": "code",
      "execution_count": null,
      "metadata": {
        "id": "AsjWo-Devjbb"
      },
      "outputs": [],
      "source": [
        "import cv2\n",
        "import glob\n",
        "show = False\n",
        "save_names = True\n",
        "\n",
        "main = str('./Synthetic/Final')\n",
        "# Clean the processing folder\n",
        "import os\n",
        "for f in glob.glob(main+\"/Cropouts/S*.jpg\"):\n",
        "    os.remove(f)\n",
        "\n",
        "main = str('./Synthetic/Final')\n",
        "# Load the files\n",
        "def get_file_names(path):\n",
        "    ext = ['jpg']    # Add formats here\n",
        "    files = []\n",
        "    [files.extend(glob.glob(path + 'S*.' + e)) for e in ext]\n",
        "    return files\n",
        "files = get_file_names(main+'/Original/')\n",
        "\n",
        "path_dia2 = main + str('/Cropouts/Names') + str('.txt')\n",
        "if save_names==True:\n",
        "    f2 = open(path_dia2, 'w')\n",
        "\n",
        "##############################################################################\n",
        "# Define the image to be used\n",
        "for idx, file in enumerate(files):\n",
        "    image = cv2.imread(files[idx])\n",
        "\n",
        "    # Size of the image\n",
        "    len_y = len(image)\n",
        "    len_x = len(image[0])\n",
        "    # Slide window\n",
        "    size_y = 640\n",
        "    size_x = 640\n",
        "    max_y = len_y//size_y\n",
        "    max_x = len_x//size_x\n",
        "\n",
        "    for i in range(max_y):\n",
        "        ##############################################################################\n",
        "        # Define the size of the output pictures\n",
        "        # Height of the picture\n",
        "        line = i                    # first line is zero\n",
        "        y2 = size_y + (line*size_y) # y2 maximum height\n",
        "        y1 = y2 - size_y            # y1 minimum height\n",
        "\n",
        "        # width of the pictures\n",
        "        x2 = size_x                 # x2 maximum width\n",
        "        x1 = x2 - size_x            # x1 minimum width\n",
        "        yy = 0                      # step y (only if I wanna make with angle)\n",
        "        xx = size_x                 # As I'm not interesed in over-writing\n",
        "                                    # the second starts where the first ends\n",
        "        maxi = max_x                # number of results (for each line)\n",
        "\n",
        "        ##############################################################################\n",
        "        # Present and save the results\n",
        "        ins=0\n",
        "        for j in range(0,maxi):\n",
        "            # image output\n",
        "            ins = image[(y1+(i*yy)):y2+(j*yy), x1+(j*xx):x2+(j*xx)]\n",
        "            if show==True:\n",
        "                cv2.imshow(\"FRI\", ins)\n",
        "                cv2.waitKey(500)\n",
        "\n",
        "            # name the output\n",
        "            name_j = str(j) # Variation of x\n",
        "            name_i = str(i) # Variation of y\n",
        "            filename = 'Synthetic/Final/Cropouts/'+ file[-20:-4] + '_R_'+name_i+'_'+name_j+'.jpg'\n",
        "\n",
        "            #'Synthetic/Final/Cropouts/' + file_name[0:-4] + '_' + str(line[-36]) + '.jpg'\n",
        "\n",
        "            print(filename)\n",
        "            # save the results\n",
        "            cv2.imwrite(filename, ins)\n",
        "\n",
        "            if save_names==True:\n",
        "                # Save the image names\n",
        "                f2.write(filename)\n",
        "                f2.write('\\n')\n",
        "\n",
        "    if show==True:\n",
        "        cv2.destroyAllWindows()\n",
        "\n",
        "if save_names==True:\n",
        "    f2.close()"
      ]
    }
  ]
}